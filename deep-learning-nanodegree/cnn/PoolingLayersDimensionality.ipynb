{
 "cells": [
  {
   "cell_type": "markdown",
   "metadata": {},
   "source": [
    "# **Max Pooling Layers in Keras**\n",
    "\n",
    "To create a max pooling layer in Keras, you must first import the necessary module:\n",
    "- from keras.layers import MaxPooling2D\n",
    "\n",
    "Then, you can create a convolutional layer by using the following format:\n",
    "\n",
    "- MaxPooling2D(pool_size, strides, padding)\n",
    "\n",
    "### Arguments\n",
    "You must include the following argument:\n",
    "\n",
    "- **pool_size**:- Number specifying the height and width of the pooling window.\n",
    "\n",
    "There are some additional, optional arguments that you might like to tune:\n",
    "\n",
    "- **strides** - The vertical and horizontal stride. If you don't specify anything, strides will default to pool_size.\n",
    "- **padding** - One of 'valid' or 'same'. If you don't specify anything, padding is set to 'valid'.\n",
    "\n",
    "**NOTE: It is possible to represent both pool_size and strides as either a number or a tuple.**"
   ]
  },
  {
   "cell_type": "code",
   "execution_count": 7,
   "metadata": {},
   "outputs": [
    {
     "name": "stdout",
     "output_type": "stream",
     "text": [
      "_________________________________________________________________\n",
      "Layer (type)                 Output Shape              Param #   \n",
      "=================================================================\n",
      "max_pooling2d_6 (MaxPooling2 (None, 34, 34, 15)        0         \n",
      "=================================================================\n",
      "Total params: 0\n",
      "Trainable params: 0\n",
      "Non-trainable params: 0\n",
      "_________________________________________________________________\n"
     ]
    }
   ],
   "source": [
    "from keras.models import Sequential\n",
    "from keras.layers import MaxPooling2D\n",
    "\n",
    "model = Sequential()\n",
    "model.add(MaxPooling2D(pool_size=5, strides=3, padding=\"same\", input_shape=(100, 100, 15)))\n",
    "model.summary()"
   ]
  },
  {
   "cell_type": "code",
   "execution_count": null,
   "metadata": {},
   "outputs": [],
   "source": []
  }
 ],
 "metadata": {
  "kernelspec": {
   "display_name": "Python 3",
   "language": "python",
   "name": "python3"
  },
  "language_info": {
   "codemirror_mode": {
    "name": "ipython",
    "version": 3
   },
   "file_extension": ".py",
   "mimetype": "text/x-python",
   "name": "python",
   "nbconvert_exporter": "python",
   "pygments_lexer": "ipython3",
   "version": "3.5.2"
  }
 },
 "nbformat": 4,
 "nbformat_minor": 2
}
